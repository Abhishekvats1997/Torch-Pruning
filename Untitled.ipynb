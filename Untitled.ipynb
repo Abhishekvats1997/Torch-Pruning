{
 "cells": [
  {
   "cell_type": "code",
   "execution_count": 7,
   "id": "bd82d1d6",
   "metadata": {},
   "outputs": [],
   "source": [
    "%load_ext autoreload\n",
    "%autoreload 2"
   ]
  },
  {
   "cell_type": "code",
   "execution_count": 8,
   "id": "ac9fea27",
   "metadata": {},
   "outputs": [],
   "source": [
    "import torch\n",
    "import torch.nn as nn\n",
    "import torchvision.models as models\n",
    "import torch_pruning as tp\n",
    "import copy\n",
    "import os\n",
    "import glob\n",
    "from train_model import Trainer"
   ]
  },
  {
   "cell_type": "code",
   "execution_count": 25,
   "id": "723eb050",
   "metadata": {},
   "outputs": [],
   "source": [
    "model = models.resnet50()\n",
    "# model.load_state_dict(torch.load(\"../../wts.pth\"))\n",
    "# orig = copy.deepcopy(model)\n",
    "orig = model\n",
    "inp = torch.randn(1,3,224,224)"
   ]
  },
  {
   "cell_type": "code",
   "execution_count": 10,
   "id": "686b49fe",
   "metadata": {},
   "outputs": [],
   "source": [
    "def clean_dataset(data_dir):\n",
    "    traindir = os.path.join(data_dir,'train')\n",
    "    files = glob.glob(traindir+'/**/*.txt',recursive=True)\n",
    "    print(files)\n",
    "    if len(files)>0:\n",
    "        for file in files:\n",
    "            os.remove(file)"
   ]
  },
  {
   "cell_type": "code",
   "execution_count": 11,
   "id": "185a7486",
   "metadata": {},
   "outputs": [],
   "source": [
    "# clean_dataset(\"/ImageNetFull/ILSVRC/Data/CLS-LOC/\")\n",
    "trainer=Trainer(\"/ImageNetFull/ILSVRC/Data/CLS-LOC/\",type=\"full\")\n"
   ]
  },
  {
   "cell_type": "code",
   "execution_count": 27,
   "id": "fa06f630",
   "metadata": {},
   "outputs": [
    {
     "name": "stdout",
     "output_type": "stream",
     "text": [
      "...............................\n"
     ]
    },
    {
     "ename": "TypeError",
     "evalue": "object of type 'ResNet' has no len()",
     "output_type": "error",
     "traceback": [
      "\u001b[1;31m--------------------------------------------------------------------------\u001b[0m",
      "\u001b[1;31mTypeError\u001b[0m                                Traceback (most recent call last)",
      "\u001b[1;32m<ipython-input-27-bca3e15a9153>\u001b[0m in \u001b[0;36m<module>\u001b[1;34m\u001b[0m\n\u001b[0;32m     19\u001b[0m     \u001b[0mprint\u001b[0m\u001b[1;33m(\u001b[0m\u001b[1;34m\"...............................\"\u001b[0m\u001b[1;33m)\u001b[0m\u001b[1;33m\u001b[0m\u001b[1;33m\u001b[0m\u001b[0m\n\u001b[0;32m     20\u001b[0m     \u001b[1;32mfor\u001b[0m \u001b[0mmod\u001b[0m \u001b[1;32min\u001b[0m \u001b[0mmodel\u001b[0m\u001b[1;33m.\u001b[0m\u001b[0mmodules\u001b[0m\u001b[1;33m(\u001b[0m\u001b[1;33m)\u001b[0m\u001b[1;33m:\u001b[0m\u001b[1;33m\u001b[0m\u001b[1;33m\u001b[0m\u001b[0m\n\u001b[1;32m---> 21\u001b[1;33m         \u001b[1;32mif\u001b[0m \u001b[0mlen\u001b[0m\u001b[1;33m(\u001b[0m\u001b[0mmod\u001b[0m\u001b[1;33m)\u001b[0m\u001b[1;33m<\u001b[0m\u001b[1;36m2\u001b[0m\u001b[1;33m:\u001b[0m\u001b[1;33m\u001b[0m\u001b[1;33m\u001b[0m\u001b[0m\n\u001b[0m\u001b[0;32m     22\u001b[0m             \u001b[0mprint\u001b[0m\u001b[1;33m(\u001b[0m\u001b[0mmod\u001b[0m\u001b[1;33m)\u001b[0m\u001b[1;33m\u001b[0m\u001b[1;33m\u001b[0m\u001b[0m\n\u001b[0;32m     23\u001b[0m     \u001b[0mpruning_plan\u001b[0m\u001b[1;33m.\u001b[0m\u001b[0mexec\u001b[0m\u001b[1;33m(\u001b[0m\u001b[1;33m)\u001b[0m\u001b[1;33m\u001b[0m\u001b[1;33m\u001b[0m\u001b[0m\n",
      "\u001b[1;31mTypeError\u001b[0m: object of type 'ResNet' has no len()"
     ]
    }
   ],
   "source": [
    "prunable_module_type = ( nn.Conv2d )\n",
    "prunable_modules = [ m for m in model.modules() if isinstance(m, prunable_module_type) and m.in_channels>3 ]\n",
    "names = [name for name,m in model.named_modules() if isinstance(m, prunable_module_type) and m.in_channels>3 ]\n",
    "out_ch = 64\n",
    "# trainer.test(\"baseline\",model)\n",
    "for name,m in zip(names,prunable_modules):\n",
    "    ch = m.out_channels\n",
    "    if isinstance( m, nn.Conv2d ):\n",
    "        prune_fn = tp.prune_conv\n",
    "#     elif isinstance(m, nn.BatchNorm2d):\n",
    "#         prune_fn = tp.prune_batchnorm   \n",
    "        \n",
    "    strategy = tp.strategy.L1Strategy()\n",
    "    graph = tp.DependencyGraph()\n",
    "    graph.build_dependency(model,inp)\n",
    "    \n",
    "    idxs = strategy(m.weight,amount=0.5)\n",
    "    pruning_plan = graph.get_pruning_plan(m,prune_fn,idxs=idxs)\n",
    "    print(\"...............................\")\n",
    "    for mod in model.modules():\n",
    "        if len(mod)<2:\n",
    "            print(mod)\n",
    "    pruning_plan.exec()\n",
    "    \n",
    "#     if not ch==out_ch:\n",
    "#         trainer.train(name+'-1',model)\n",
    "#         trainer.train(name+'-2',model,lr=0.0001)\n",
    "#         trainer.test(name,model)\n",
    "#     else:\n",
    "#         trainer.train(name,model)\n",
    "#         trainer.test(name,model)\n"
   ]
  },
  {
   "cell_type": "code",
   "execution_count": 18,
   "id": "b850c789",
   "metadata": {},
   "outputs": [
    {
     "data": {
      "text/plain": [
       "<torch_pruning.dependency.DependencyGraph at 0x240c37fc5b0>"
      ]
     },
     "execution_count": 18,
     "metadata": {},
     "output_type": "execute_result"
    }
   ],
   "source": [
    "graph"
   ]
  },
  {
   "cell_type": "code",
   "execution_count": null,
   "id": "2fface6c",
   "metadata": {},
   "outputs": [],
   "source": [
    "mods[0].re"
   ]
  }
 ],
 "metadata": {
  "kernelspec": {
   "display_name": "Python 3",
   "language": "python",
   "name": "python3"
  },
  "language_info": {
   "codemirror_mode": {
    "name": "ipython",
    "version": 3
   },
   "file_extension": ".py",
   "mimetype": "text/x-python",
   "name": "python",
   "nbconvert_exporter": "python",
   "pygments_lexer": "ipython3",
   "version": "3.9.5"
  }
 },
 "nbformat": 4,
 "nbformat_minor": 5
}
